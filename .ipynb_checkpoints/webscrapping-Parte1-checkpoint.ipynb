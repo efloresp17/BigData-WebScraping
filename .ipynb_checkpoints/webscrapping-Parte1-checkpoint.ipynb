{
 "cells": [
  {
   "cell_type": "markdown",
   "metadata": {},
   "source": [
    "# Web Scraping with lazy load\n",
    "\n",
    "Page to be scraped: El Espectador"
   ]
  },
  {
   "cell_type": "code",
   "execution_count": 1,
   "metadata": {},
   "outputs": [],
   "source": [
    "# Importing required libraries\n",
    "\n",
    "import time\n",
    "\n",
    "from bs4 import BeautifulSoup\n",
    "from selenium import webdriver\n",
    "\n",
    "from pymongo import MongoClient"
   ]
  },
  {
   "cell_type": "code",
   "execution_count": 2,
   "metadata": {},
   "outputs": [],
   "source": [
    "# Creating a connection to MongoDB\n",
    "client = MongoClient('localhost', 27017)\n",
    "db = client['news']\n",
    "collection = db['elespectador']"
   ]
  },
  {
   "cell_type": "code",
   "execution_count": 3,
   "metadata": {},
   "outputs": [],
   "source": [
    "# Base URL of the site to be analyzed\n",
    "SITE_URL = 'https://www.elespectador.com'"
   ]
  },
  {
   "cell_type": "code",
   "execution_count": 4,
   "metadata": {},
   "outputs": [],
   "source": [
    "# Firefox web driver path\n",
    "# Download the driver for you S.O. here: https://github.com/mozilla/geckodriver/releases\n",
    "DRIVER_PATH = './geckodriver.exe'"
   ]
  },
  {
   "cell_type": "code",
   "execution_count": 5,
   "metadata": {},
   "outputs": [
    {
     "name": "stderr",
     "output_type": "stream",
     "text": [
      "C:\\Users\\edins\\AppData\\Local\\Temp\\ipykernel_12476\\1910320475.py:2: DeprecationWarning: executable_path has been deprecated, please pass in a Service object\n",
      "  browser = webdriver.Firefox(executable_path = DRIVER_PATH)\n"
     ]
    }
   ],
   "source": [
    "# Creating a new firefox window\n",
    "browser = webdriver.Firefox(executable_path = DRIVER_PATH)"
   ]
  },
  {
   "cell_type": "code",
   "execution_count": 6,
   "metadata": {},
   "outputs": [],
   "source": [
    "def make_request(browser, categories):\n",
    "    if (len(categories)<6):\n",
    "        test = []\n",
    "        for x in categories:    \n",
    "            for i in range(5):\n",
    "                print(i)\n",
    "                # Making the request and rendering the browser\n",
    "                if (i==0):\n",
    "                    browser.get(SITE_URL + x )\n",
    "                    print(SITE_URL + x)\n",
    "                else:\n",
    "                    print(SITE_URL + x + str(i+1)+'/')\n",
    "                    browser.get(SITE_URL + x + str(i+1)+'/')\n",
    "                # Simulating vertical scrolling for handling lazy load\n",
    "                check_height = browser.execute_script('return document.body.scrollHeight;')\n",
    "                while True:\n",
    "                    browser.execute_script('window.scrollTo(0, document.body.scrollHeight);')\n",
    "                    time.sleep(3)\n",
    "                    height = browser.execute_script('return document.body.scrollHeight;')\n",
    "                    if height == check_height: \n",
    "                        break \n",
    "                    check_height = height\n",
    "                test.append(BeautifulSoup(browser.page_source, 'html.parser'))\n",
    "            # Getting HTML content and passing it to BeautifulSoup for scraping analysis\n",
    "        return test\n",
    "    else:\n",
    "        # Making the request and rendering the browser\n",
    "        browser.get(SITE_URL + categories)\n",
    "\n",
    "        # Simulating vertical scrolling for handling lazy load\n",
    "        check_height = browser.execute_script('return document.body.scrollHeight;')\n",
    "        while True:\n",
    "            browser.execute_script('window.scrollTo(0, document.body.scrollHeight);')\n",
    "            time.sleep(3)\n",
    "            height = browser.execute_script('return document.body.scrollHeight;')\n",
    "            if height == check_height: \n",
    "                break \n",
    "            check_height = height\n",
    "\n",
    "        # Getting HTML content and passing it to BeautifulSoup for scraping analysis\n",
    "        return BeautifulSoup(browser.page_source, 'html.parser')"
   ]
  },
  {
   "cell_type": "code",
   "execution_count": null,
   "metadata": {},
   "outputs": [
    {
     "name": "stdout",
     "output_type": "stream",
     "text": [
      "0\n",
      "https://www.elespectador.com/archivo/judicial/\n",
      "1\n",
      "https://www.elespectador.com/archivo/judicial/2/\n",
      "2\n",
      "https://www.elespectador.com/archivo/judicial/3/\n",
      "3\n",
      "https://www.elespectador.com/archivo/judicial/4/\n",
      "4\n",
      "https://www.elespectador.com/archivo/judicial/5/\n",
      "0\n",
      "https://www.elespectador.com/archivo/politica/\n",
      "1\n",
      "https://www.elespectador.com/archivo/politica/2/\n",
      "2\n",
      "https://www.elespectador.com/archivo/politica/3/\n",
      "3\n",
      "https://www.elespectador.com/archivo/politica/4/\n",
      "4\n",
      "https://www.elespectador.com/archivo/politica/5/\n",
      "0\n",
      "https://www.elespectador.com/archivo/colombia/\n",
      "1\n",
      "https://www.elespectador.com/archivo/colombia/2/\n",
      "2\n",
      "https://www.elespectador.com/archivo/colombia/3/\n"
     ]
    }
   ],
   "source": [
    "# Getting HTML content for a particular news listing page\n",
    "categories = ['/archivo/judicial/','/archivo/politica/','/archivo/colombia/','/archivo/economia/','/archivo/bogota/']\n",
    "soup = make_request(browser, categories)"
   ]
  },
  {
   "cell_type": "code",
   "execution_count": null,
   "metadata": {},
   "outputs": [],
   "source": [
    "# Finding the section where news are contained \n",
    "layout = []\n",
    "for i in range(len(soup)):\n",
    "    layout.append(soup[i].find(class_ = 'Layout-flexAds'))\n",
    "print(len(layout))\n"
   ]
  },
  {
   "cell_type": "code",
   "execution_count": null,
   "metadata": {},
   "outputs": [],
   "source": [
    "# Getting blocks from layout\n",
    "blocks = []\n",
    "for i in range(len(layout)):\n",
    "    blocks.append(layout[i].find_all(class_ = 'Container Block', recursive = True))\n",
    "print(len(blocks))"
   ]
  },
  {
   "cell_type": "code",
   "execution_count": null,
   "metadata": {},
   "outputs": [],
   "source": [
    "# Finding and concatenating news cards\n",
    "cards = []\n",
    "for i in range(len(blocks)):\n",
    "    cards.append(blocks[i][0].find_all(class_ = 'Card_rowCardLeft') + blocks[i][1].find_all(class_ = 'Card_rowCardLeft'))\n",
    "print(len(cards))"
   ]
  },
  {
   "cell_type": "code",
   "execution_count": null,
   "metadata": {},
   "outputs": [],
   "source": [
    "# Building a list with title and relative path of the news founded\n",
    "\n",
    "news = []\n",
    "for i in range(len(cards)):\n",
    "    for x in range(len(cards[i])):         \n",
    "        news.append({\n",
    "            'title': cards[i][x].find('h2', class_ = 'Card-Title').find('a').get_text(),\n",
    "            'relative_path': cards[i][x].find('h2', class_ = 'Card-Title').find('a')['href']\n",
    "        })\n",
    "print(len(news))"
   ]
  },
  {
   "cell_type": "code",
   "execution_count": null,
   "metadata": {},
   "outputs": [],
   "source": [
    "news"
   ]
  },
  {
   "cell_type": "code",
   "execution_count": null,
   "metadata": {},
   "outputs": [],
   "source": [
    "for n in news:\n",
    "    # Getting HTML content for each news page\n",
    "    print(n['relative_path'])\n",
    "    soup = make_request(browser, n['relative_path'])\n",
    "    \n",
    "    # Extracting news metadata\n",
    "    n['datetime'] = soup.find(class_ = 'ArticleHeader-Date').get_text()\n",
    "    #n['author'] = soup.find(class_ = 'ACredit-Author').find('a').get_text()\n",
    "    n['summary'] = soup.find(class_ = 'ArticleHeader-Hook').find('div').get_text()\n",
    "    \n",
    "    # Extracting and concatenating news full text\n",
    "    paragraphs = soup.find_all(class_ = 'font--secondary')\n",
    "    n['full_text'] = ' '.join([p.get_text() for p in paragraphs])"
   ]
  },
  {
   "cell_type": "code",
   "execution_count": null,
   "metadata": {},
   "outputs": [],
   "source": [
    "news"
   ]
  },
  {
   "cell_type": "code",
   "execution_count": null,
   "metadata": {},
   "outputs": [],
   "source": [
    "# Storing extracted information for further analysis\n",
    "collection.insert_many(news)"
   ]
  },
  {
   "cell_type": "code",
   "execution_count": null,
   "metadata": {},
   "outputs": [],
   "source": []
  },
  {
   "cell_type": "code",
   "execution_count": null,
   "metadata": {},
   "outputs": [],
   "source": []
  }
 ],
 "metadata": {
  "kernelspec": {
   "display_name": "Python 3 (ipykernel)",
   "language": "python",
   "name": "python3"
  },
  "language_info": {
   "codemirror_mode": {
    "name": "ipython",
    "version": 3
   },
   "file_extension": ".py",
   "mimetype": "text/x-python",
   "name": "python",
   "nbconvert_exporter": "python",
   "pygments_lexer": "ipython3",
   "version": "3.10.4"
  }
 },
 "nbformat": 4,
 "nbformat_minor": 4
}
